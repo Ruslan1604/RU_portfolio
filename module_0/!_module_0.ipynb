{
 "cells": [
  {
   "cell_type": "code",
   "execution_count": 19,
   "metadata": {},
   "outputs": [
    {
     "name": "stdout",
     "output_type": "stream",
     "text": [
      "Загадайте число от 1 до 100:77\n"
     ]
    },
    {
     "data": {
      "text/plain": [
       "6"
      ]
     },
     "execution_count": 19,
     "metadata": {},
     "output_type": "execute_result"
    }
   ],
   "source": [
    " import numpy as np\n",
    " \n",
    " \n",
    " def game_core_v2(number):\n",
    "     predict = int(input('Загадайте число от 1 до 100:'))   # ввод загадываемого числа\n",
    "     count = 0    # счетчик попыток\n",
    "     lowerLimit = 1\n",
    "     upperLimit = 101\n",
    "     while predict != number:    # цикл\n",
    "         if predict > number:  \n",
    "             upperLimit = predict\n",
    "         else:\n",
    "             lowerLimit=predict\n",
    "         count+=1\n",
    "         predict = lowerLimit + (upperLimit - lowerLimit) // 2\n",
    "     return count  # выход из цикла, если угадали\n",
    " \n",
    " num = np.random.randint(1,101)     # загадали число\n",
    " game_core_v2(num)  # Проверяем"
   ]
  },
  {
   "cell_type": "code",
   "execution_count": null,
   "metadata": {},
   "outputs": [],
   "source": []
  },
  {
   "cell_type": "code",
   "execution_count": null,
   "metadata": {},
   "outputs": [],
   "source": []
  }
 ],
 "metadata": {
  "kernelspec": {
   "display_name": "Python 3",
   "language": "python",
   "name": "python3"
  },
  "language_info": {
   "codemirror_mode": {
    "name": "ipython",
    "version": 3
   },
   "file_extension": ".py",
   "mimetype": "text/x-python",
   "name": "python",
   "nbconvert_exporter": "python",
   "pygments_lexer": "ipython3",
   "version": "3.8.5"
  }
 },
 "nbformat": 4,
 "nbformat_minor": 4
}
